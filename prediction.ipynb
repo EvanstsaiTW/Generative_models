{
 "cells": [
  {
   "cell_type": "code",
   "execution_count": 2,
   "metadata": {},
   "outputs": [],
   "source": [
    "import warnings\n",
    "warnings.filterwarnings('ignore')\n",
    "\n",
    "import os\n",
    "import cv2\n",
    "import keras\n",
    "from keras.models import Sequential, load_model, Model\n",
    "\n",
    "import matplotlib.pyplot as plt\n",
    "import pandas as pd\n",
    "import numpy as np"
   ]
  },
  {
   "cell_type": "code",
   "execution_count": 3,
   "metadata": {},
   "outputs": [],
   "source": [
    "pre_model = load_model('./saved_models/Inceptionv3_1.h5')"
   ]
  },
  {
   "cell_type": "code",
   "execution_count": 6,
   "metadata": {},
   "outputs": [],
   "source": [
    "# test_path = 'test/twmoth009748.jpg'\n",
    "test_path = 'test/twmoth020247.jpg'"
   ]
  },
  {
   "cell_type": "code",
   "execution_count": 7,
   "metadata": {},
   "outputs": [],
   "source": [
    "img = cv2.resize(cv2.imread(test_path), dsize = (299,299))\n",
    "img = img.astype(np.float32)\n",
    "img /= 127.5\n",
    "img -= 1"
   ]
  },
  {
   "cell_type": "code",
   "execution_count": 8,
   "metadata": {},
   "outputs": [
    {
     "data": {
      "text/plain": [
       "(299, 299, 3)"
      ]
     },
     "execution_count": 8,
     "metadata": {},
     "output_type": "execute_result"
    }
   ],
   "source": [
    "img.shape"
   ]
  },
  {
   "cell_type": "code",
   "execution_count": 9,
   "metadata": {},
   "outputs": [],
   "source": [
    "img = np.expand_dims(img, axis=0)"
   ]
  },
  {
   "cell_type": "code",
   "execution_count": 10,
   "metadata": {},
   "outputs": [
    {
     "data": {
      "text/plain": [
       "(1, 299, 299, 3)"
      ]
     },
     "execution_count": 10,
     "metadata": {},
     "output_type": "execute_result"
    }
   ],
   "source": [
    "img.shape"
   ]
  },
  {
   "cell_type": "code",
   "execution_count": 11,
   "metadata": {},
   "outputs": [
    {
     "data": {
      "text/plain": [
       "array([[1.77827260e-07, 7.35828678e-08, 2.45016253e-07, 6.07405013e-07,\n",
       "        1.02839259e-07, 1.83239734e-07, 8.13308645e-07, 6.69053225e-06,\n",
       "        1.29358168e-05, 1.16164874e-05, 5.98372844e-06, 5.45398643e-06,\n",
       "        2.53597027e-05, 9.88041961e-07, 4.82058852e-07, 2.63638427e-08,\n",
       "        3.20478534e-07, 4.39788550e-07, 2.46708908e-07, 7.89095111e-07,\n",
       "        1.98048729e-05, 1.48033180e-07, 1.05461915e-07, 2.70795681e-06,\n",
       "        3.04874607e-06, 3.05934509e-06, 1.77139157e-06, 3.24895154e-07,\n",
       "        1.24092264e-06, 1.86055684e-06, 1.74851482e-06, 4.08415181e-05,\n",
       "        2.68458137e-07, 5.81141801e-09, 5.95487437e-09, 4.72478064e-07,\n",
       "        4.60180127e-06, 2.47919559e-07, 1.23726988e-06, 3.91379693e-08,\n",
       "        2.44025760e-08, 1.34791250e-07, 1.67227885e-08, 6.90893501e-07,\n",
       "        3.14894214e-06, 1.51649733e-08, 6.74150169e-06, 4.79428763e-06,\n",
       "        2.99694563e-08, 5.66203653e-07, 5.39016725e-08, 2.30344597e-08,\n",
       "        2.56509775e-05, 1.19249512e-06, 2.93649606e-07, 8.37781727e-07,\n",
       "        1.53805740e-05, 2.87321143e-07, 6.75075924e-08, 8.64328740e-07,\n",
       "        1.15612215e-06, 1.45381236e-07, 3.66473864e-06, 3.24405778e-06,\n",
       "        1.73158642e-05, 1.01035437e-06, 6.99569691e-09, 3.48613980e-06,\n",
       "        1.09890635e-07, 3.00841165e-08, 1.00493548e-06, 6.25449275e-06,\n",
       "        2.93055814e-06, 1.05921337e-07, 4.02304551e-07, 1.92767530e-07,\n",
       "        8.71758914e-08, 2.00144417e-08, 3.48228980e-07, 1.06160962e-06,\n",
       "        7.37662788e-07, 1.38326175e-06, 7.61061499e-04, 1.89801031e-05,\n",
       "        2.96709004e-07, 1.11161189e-05, 3.38517339e-07, 7.08321366e-08,\n",
       "        8.44986747e-10, 1.23750840e-06, 3.07984664e-07, 2.03447325e-06,\n",
       "        5.35546860e-06, 6.09035806e-06, 2.55912113e-07, 3.89539309e-07,\n",
       "        1.02886482e-08, 1.22651568e-06, 1.37245578e-07, 1.63386076e-07,\n",
       "        1.65135782e-06, 2.62631261e-07, 4.63284255e-09, 3.70623674e-08,\n",
       "        3.33583273e-07, 1.03667382e-07, 8.55165041e-08, 2.72163430e-08,\n",
       "        3.22787599e-07, 5.82054838e-07, 5.95871541e-07, 2.24629616e-06,\n",
       "        1.36272888e-07, 1.87376759e-06, 1.44657520e-07, 1.01251828e-07,\n",
       "        3.16562314e-08, 3.25980153e-07, 2.31985581e-07, 5.74101932e-07,\n",
       "        5.88593082e-07, 1.24588996e-06, 1.17496526e-07, 4.45077035e-07,\n",
       "        5.44238401e-06, 1.21319545e-06, 4.02683042e-07, 3.14151544e-06,\n",
       "        1.51280949e-06, 6.73113902e-08, 6.81893653e-05, 1.56202915e-07,\n",
       "        8.66746888e-08, 5.86767612e-07, 1.01058450e-08, 1.90637957e-06,\n",
       "        1.47197809e-07, 1.70010196e-07, 1.73598949e-07, 1.01676633e-07,\n",
       "        3.17616610e-07, 3.14615193e-07, 2.51312429e-07, 1.72969976e-07,\n",
       "        1.62313913e-08, 2.04926653e-08, 1.59101873e-07, 2.69796283e-06,\n",
       "        6.29914823e-08, 1.59295737e-07, 9.12011089e-08, 1.77914131e-07,\n",
       "        9.05010538e-08, 2.28474804e-07, 2.87373751e-07, 2.34916982e-07,\n",
       "        1.12943056e-07, 2.67452727e-08, 1.77122672e-07, 1.15447449e-07,\n",
       "        2.30680612e-07, 8.63102212e-09, 3.73103290e-08, 2.08188158e-06,\n",
       "        1.38119205e-08, 5.17374417e-07, 1.79886726e-07, 1.37215096e-07,\n",
       "        1.57881118e-06, 4.65462017e-06, 2.10694523e-07, 4.36940510e-08,\n",
       "        1.64030709e-07, 4.81799216e-05, 3.92124122e-07, 4.39170513e-08,\n",
       "        1.27133664e-08, 1.37103513e-07, 1.81707412e-06, 7.17713590e-07,\n",
       "        1.22552592e-07, 8.87561811e-08, 5.19790744e-09, 1.77376734e-07,\n",
       "        6.30316208e-08, 1.20799953e-07, 1.15357750e-07, 7.15094188e-07,\n",
       "        4.43177619e-08, 2.04835988e-08, 1.54912561e-09, 1.87664928e-09,\n",
       "        9.33580111e-08, 3.44100812e-07, 7.45010539e-07, 5.89873139e-07,\n",
       "        3.17484421e-08, 6.27913677e-09, 5.69152326e-06, 9.39585902e-08,\n",
       "        4.07267891e-08, 9.87078667e-01, 9.00890953e-08, 3.67995554e-08,\n",
       "        3.67671964e-05, 4.33921196e-06, 1.56311042e-04, 8.20983496e-06,\n",
       "        1.13412114e-02, 4.02475380e-05, 1.06680795e-06, 3.76339585e-06,\n",
       "        1.10193414e-05, 4.17718411e-06, 5.25326186e-06, 3.11974588e-07,\n",
       "        5.13538362e-06, 6.36888626e-06, 7.43868270e-07, 9.12972325e-07,\n",
       "        1.10988736e-07, 2.14925853e-06, 1.26642064e-07, 1.03267701e-06,\n",
       "        1.21344826e-07, 1.02869663e-07, 5.27348547e-08, 5.46997718e-08,\n",
       "        6.50808207e-09, 3.09694997e-07, 6.32491250e-08, 2.11190513e-06,\n",
       "        1.66244632e-07, 1.65469807e-08, 1.11206774e-07, 1.61335780e-08,\n",
       "        8.07231118e-07, 2.95834912e-08, 1.90679685e-07, 1.14739205e-08,\n",
       "        9.46527734e-07, 1.93270875e-08, 3.61249732e-08, 1.85756491e-07,\n",
       "        7.85953489e-07, 1.01225190e-07, 6.04534236e-08, 1.51507629e-06,\n",
       "        3.16087323e-07, 9.64279465e-08, 6.14405781e-06, 1.54543372e-07,\n",
       "        2.53357248e-05, 4.21003854e-08, 5.44196332e-08, 6.89239021e-09,\n",
       "        8.20467605e-08, 6.04675006e-06, 1.93419692e-06, 2.03371187e-07,\n",
       "        2.03474798e-07, 4.31982443e-07]], dtype=float32)"
      ]
     },
     "execution_count": 11,
     "metadata": {},
     "output_type": "execute_result"
    }
   ],
   "source": [
    "pred = pre_model.predict(img)\n",
    "pred"
   ]
  },
  {
   "cell_type": "code",
   "execution_count": 12,
   "metadata": {},
   "outputs": [],
   "source": [
    "img_labels = ['Bombycidae_Bombyx_mandarina_formosana',\n",
    " 'Bombycidae_Ernolatia_moorei',\n",
    " 'Bombycidae_Trilocha_varians',\n",
    " 'Bombycidae_Triuncina_brunnea',\n",
    " 'Brahmaeidae_Brahmaea_wallichii_insulata',\n",
    " 'Callidulidae_Callidula_attenuata',\n",
    " 'Choreutidae_Choreutis_amethystodes',\n",
    " 'Choreutidae_Choreutis_basalis',\n",
    " 'Choreutidae_Choreutis_xanthogramma',\n",
    " 'Choreutidae_Saptha_divitiosa',\n",
    " 'Cossidae_Xyleutes_strix',\n",
    " 'Cossidae_Zeuzera_multistrigata',\n",
    " 'Crambidae_Aethaloessa_calidalis_tiphalis',\n",
    " 'Crambidae_Agrioglypta_itysalis',\n",
    " 'Crambidae_Bocchoris_inspersalis',\n",
    " 'Crambidae_Botyodes_caldusalis',\n",
    " 'Crambidae_Bradina_diagonalis',\n",
    " 'Crambidae_Camptomastix_hisbonalis',\n",
    " 'Crambidae_Cataclysta_angulata',\n",
    " 'Crambidae_Ceratarcha_umbrosa',\n",
    " 'Crambidae_Cirrhochrista_spinuella',\n",
    " 'Crambidae_Cirrhochrista_spissalis',\n",
    " 'Crambidae_Cnaphalocrocis_medinalis',\n",
    " 'Crambidae_Diaphania_indica',\n",
    " 'Crambidae_Eoophyla_conjunctalis',\n",
    " 'Crambidae_Eoophyla_gibbosalis',\n",
    " 'Crambidae_Glyphodes_bivitralis',\n",
    " 'Crambidae_Heortia_vitessoides',\n",
    " 'Crambidae_Maruca_vitrata',\n",
    " 'Crambidae_Nevrina_procopia',\n",
    " 'Crambidae_Paracymoriza_cataclystalis',\n",
    " 'Crambidae_Spoladea_recurvalis',\n",
    " 'Crambidae_Syllepte_taiwanalis',\n",
    " 'Drepanidae_Callidrepana_patrana',\n",
    " 'Drepanidae_Cyclidia_substigmaria',\n",
    " 'Drepanidae_Drapetodes_mitaria',\n",
    " 'Drepanidae_Habrosyne_indica_formosana',\n",
    " 'Drepanidae_Horithyatira_decorata_takamukui',\n",
    " 'Drepanidae_Leucoblepsis_taiwanensis',\n",
    " 'Drepanidae_Leucodrepana_serratilinea',\n",
    " 'Drepanidae_Macrocilix_mysticata_flavotincta',\n",
    " 'Drepanidae_Neoreta_purpureofascia',\n",
    " 'Drepanidae_Nordstromia_semililacina',\n",
    " 'Drepanidae_Oreta_brunnea',\n",
    " 'Drepanidae_Oreta_extensa',\n",
    " 'Drepanidae_Oreta_insignis',\n",
    " 'Drepanidae_Thyatira_batis_formosicola',\n",
    " 'Endromidae_Andraca_theae',\n",
    " 'Erebidae_Aglaomorpha_histrio_formosana',\n",
    " 'Erebidae_Amsactoides_solitaria',\n",
    " 'Erebidae_Anisoneura_salebrosa',\n",
    " 'Erebidae_Areas_galactina_formosana',\n",
    " 'Erebidae_Arna_bipunctapex',\n",
    " 'Erebidae_Aroana_baliensis',\n",
    " 'Erebidae_Artena_dotata',\n",
    " 'Erebidae_Asota_caricae',\n",
    " 'Erebidae_Asota_egens_indica',\n",
    " 'Erebidae_Asota_heliconia_zebrina',\n",
    " 'Erebidae_Asota_plana_lacteata',\n",
    " 'Erebidae_Asura_tricolor',\n",
    " 'Erebidae_Avatha_chinensis',\n",
    " 'Erebidae_Barsine_fuscozonata',\n",
    " 'Erebidae_Barsine_horishanella',\n",
    " 'Erebidae_Barsine_sauteri',\n",
    " 'Erebidae_Bastilla_fulvotaenia',\n",
    " 'Erebidae_Bertula_abjudicalis',\n",
    " 'Erebidae_Bertula_kosemponica',\n",
    " 'Erebidae_Bocana_manifestalis',\n",
    " 'Erebidae_Brunia_antica',\n",
    " 'Erebidae_Calliteara_grotei_horishanella',\n",
    " 'Erebidae_Calliteara_postfusca',\n",
    " 'Erebidae_Chrysaeglia_magnifica',\n",
    " 'Erebidae_Conilepia_nigricosta_paiwan',\n",
    " 'Erebidae_Creatonotos_transiens_vacillans',\n",
    " 'Erebidae_Cyana_hamata_hamata',\n",
    " 'Erebidae_Daddala_lucilla',\n",
    " 'Erebidae_Diduga_flavicostata',\n",
    " 'Erebidae_Dura_alba',\n",
    " 'Erebidae_Ercheia_cyllaria',\n",
    " 'Erebidae_Erebus_ephesperis',\n",
    " 'Erebidae_Erebus_gemmans',\n",
    " 'Erebidae_Eressa_confinis_finitima',\n",
    " 'Erebidae_Eudocima_homaena',\n",
    " 'Erebidae_Eudocima_phalonia',\n",
    " 'Erebidae_Eudocima_salaminia',\n",
    " 'Erebidae_Euproctis_kanshireia',\n",
    " 'Erebidae_Fodina_contigua',\n",
    " 'Erebidae_Garudinia_bimaculata',\n",
    " 'Erebidae_Herminia_vermiculata',\n",
    " 'Erebidae_Hesudra_divisa',\n",
    " 'Erebidae_Hipoepa_fractalis',\n",
    " 'Erebidae_Hydrillodes_lentalis',\n",
    " 'Erebidae_Hydrillodes_nilgirialis',\n",
    " 'Erebidae_Hypospila_bolinoides',\n",
    " 'Erebidae_Ilema_kosemponica',\n",
    " 'Erebidae_Ilema_olivacea',\n",
    " 'Erebidae_Ischyja_ferrifracta',\n",
    " 'Erebidae_Ischyja_manlia',\n",
    " 'Erebidae_Lemyra_alikangensis',\n",
    " 'Erebidae_Lemyra_rhodophilodes',\n",
    " 'Erebidae_Lyclene_alikangiae',\n",
    " 'Erebidae_Lyclene_arcuata',\n",
    " 'Erebidae_Lymantria_concolor_concolor',\n",
    " 'Erebidae_Lymantria_iris',\n",
    " 'Erebidae_Lymantria_mathura_subpallida',\n",
    " 'Erebidae_Lymantria_sinica_sinica',\n",
    " 'Erebidae_Lymantria_xylina',\n",
    " 'Erebidae_Macrobrochis_gigas',\n",
    " 'Erebidae_Metaemene_atrigutta',\n",
    " 'Erebidae_Miltochrista_ziczac',\n",
    " 'Erebidae_Mithuna_arizana',\n",
    " 'Erebidae_Mocis_frugalis',\n",
    " 'Erebidae_Mocis_undata',\n",
    " 'Erebidae_Mosopia_punctilinea',\n",
    " 'Erebidae_Nudaria_ranruna',\n",
    " 'Erebidae_Nyctemera_adversata',\n",
    " 'Erebidae_Nyctemera_carissima_formosana',\n",
    " 'Erebidae_Nyctemera_lacticinia',\n",
    " 'Erebidae_Olene_dudgeoni',\n",
    " 'Erebidae_Olene_mendosa',\n",
    " 'Erebidae_Ommatophora_luminosa',\n",
    " 'Erebidae_Orgyia_postica',\n",
    " 'Erebidae_Oxacme_cretacea',\n",
    " 'Erebidae_Oxyodes_scrobiculata',\n",
    " 'Erebidae_Perina_nuda',\n",
    " 'Erebidae_Pindara_illibata',\n",
    " 'Erebidae_Schistophleps_bipuncta',\n",
    " 'Erebidae_Somena_scintillans',\n",
    " 'Erebidae_Spilarctia_subcarnea',\n",
    " 'Erebidae_Spilarctia_wilemani',\n",
    " 'Erebidae_Sympis_rufibasis',\n",
    " 'Erebidae_Syntomoides_imaon',\n",
    " 'Erebidae_Thyas coronata',\n",
    " 'Erebidae_Thysanoptyx_incurvata',\n",
    " 'Erebidae_Vamuna alboluteora',\n",
    " 'Eupterotidae_Palirisa_cervina_formosana',\n",
    " 'Geometridae_Acolutha pictaria_imbecilla',\n",
    " 'Geometridae_Agathia laetata',\n",
    " 'Geometridae_Alcis admissaria_undularia',\n",
    " 'Geometridae_Alcis taiwanovariegata',\n",
    " 'Geometridae_Amblychia_angeronaria',\n",
    " 'Geometridae_Antitrygodes_divisaria_perturbatus',\n",
    " 'Geometridae_Biston_perclara',\n",
    " 'Geometridae_Borbacha_pardaria',\n",
    " 'Geometridae_Calletaera_obliquata',\n",
    " 'Geometridae_Calletaera_postvittata',\n",
    " 'Geometridae_Catoria_olivescens',\n",
    " 'Geometridae_Catoria_sublavaria',\n",
    " 'Geometridae_Celenna_festivaria_formosensis',\n",
    " 'Geometridae_Chiasmia_emersaria',\n",
    " 'Geometridae_Chorodna_creataria',\n",
    " 'Geometridae_Chorodna_ochreimacula',\n",
    " 'Geometridae_Cleora_fraterna',\n",
    " 'Geometridae_Corymica_arnearia',\n",
    " 'Geometridae_Cusiala_boarmioides',\n",
    " 'Geometridae_Doratoptera_lutea',\n",
    " 'Geometridae_Ectropis_bhurmitra',\n",
    " 'Geometridae_Entomopteryx_rubridisca',\n",
    " 'Geometridae_Epobeidia_lucifera_extranigricans',\n",
    " 'Geometridae_Eumelea _udovicata',\n",
    " 'Geometridae_Gonodontis_pallida',\n",
    " 'Geometridae_Harutalcis_fumigata',\n",
    " 'Geometridae_Herochroma_cristata',\n",
    " 'Geometridae_Hypochrosis_baenzigeri',\n",
    " 'Geometridae_Hyposidra_infixaria',\n",
    " 'Geometridae_Hyposidra_talaca_talaca',\n",
    " 'Geometridae_Krananda semihyalina',\n",
    " 'Geometridae_Krananda_latimarginaria',\n",
    " 'Geometridae_Krananda_oliveomarginata',\n",
    " 'Geometridae_Lassaba_parvalbidaria_parvalbidaria',\n",
    " 'Geometridae_Lophobates_inchoata',\n",
    " 'Geometridae_Lophophelma_taiwana',\n",
    " 'Geometridae_Luxiaria_mitorrhaphes',\n",
    " 'Geometridae_Nothomiza_flavicosta',\n",
    " 'Geometridae_Odontopera_albiguttulata',\n",
    " 'Geometridae_Ophthalmitis_herbidaria',\n",
    " 'Geometridae_Organopoda_carnearia_carnearia',\n",
    " 'Geometridae_Ourapteryx_clara_formosana',\n",
    " 'Geometridae_Pachyodes_subtrita',\n",
    " 'Geometridae_Parapercnia_giraffata',\n",
    " 'Geometridae_Percnia_longitermen',\n",
    " 'Geometridae_Percnia_suffusa',\n",
    " 'Geometridae_Phthonandria_atrilineata_cuneilinearia',\n",
    " 'Geometridae_Pingasa_ruginaria_pacifica',\n",
    " 'Geometridae_Pogonopygia_pavidus_pavidus',\n",
    " 'Geometridae_Problepsis_albidior_matsumurai',\n",
    " 'Geometridae_Psilalcis_breta_rantaizana',\n",
    " 'Geometridae_Psilalcis_pulveraria',\n",
    " 'Geometridae_Racotis_boarmiaria',\n",
    " 'Geometridae_Scopula_propinquaria',\n",
    " 'Geometridae_Tanaoctenia_haliaria',\n",
    " 'Geometridae_Timandra_convectaria',\n",
    " 'Geometridae_Timandra_extremaria',\n",
    " 'Geometridae_Traminda_aventiaria',\n",
    " 'Geometridae_Trotocraspeda_divaricata',\n",
    " 'Geometridae_Xandrames_dholaria',\n",
    " 'Geometridae_Xandrames_latiferaria_curvistriga',\n",
    " 'Geometridae_Xanthorhoe_saturata',\n",
    " 'Geometridae_Xenoplia_trivialis',\n",
    " 'Geometridae_Yashmakia_suffusa',\n",
    " 'Geometridae_Zanclopera_falcata',\n",
    " 'Hyblaeidae_Hyblaea_firmamentum',\n",
    " 'Lasiocampidae_Kunugia_undans_metanastroides',\n",
    " 'Lasiocampidae_Lebeda_nobilis',\n",
    " 'Lasiocampidae_Paralebeda_femorata_mirabilis',\n",
    " 'Lasiocampidae_Trabala_vishnou_guttata',\n",
    " 'Lecithoceridae_Tisis_mesozosta',\n",
    " 'Limacodidae_Cania_heppneri',\n",
    " 'Limacodidae_Miresa_fulgida',\n",
    " 'Limacodidae_Monema_rubriceps',\n",
    " 'Limacodidae_Parasa_consocia',\n",
    " 'Limacodidae_Parasa_shirakii',\n",
    " 'Limacodidae_Phlossa_conjuncta',\n",
    " 'Limacodidae_Susica_sinensis',\n",
    " 'Limacodidae_Thosea_sinensis',\n",
    " 'Noctuidae_Diphtherocome_pulchra',\n",
    " 'Noctuidae_Exsula dentatrix_albomaculata',\n",
    " 'Nolidae_Westermannia_elliptica_elliptica',\n",
    " 'Notodontidae_Benbowia_takamukuanus',\n",
    " 'Notodontidae_Phalera_flavescens_flavescens',\n",
    " 'Notodontidae_Syntypistis_pallidifascia_pallidifascia',\n",
    " 'Pyralidae_Arctioblepsis_rubida',\n",
    " 'Pyralidae_Locastra_muscosalis',\n",
    " 'Saturniidae_Actias_ningpoana_ningtaiwana',\n",
    " 'Saturniidae_Actias_sinensis_subaurea',\n",
    " 'Saturniidae_Antheraea_formosana',\n",
    " 'Saturniidae_Antheraea_yamamai_superba',\n",
    " 'Saturniidae_Attacus_atlas_formosanus',\n",
    " 'Saturniidae_Loepa_formosensis',\n",
    " 'Saturniidae_Samia_wangi',\n",
    " 'Saturniidae_Saturnia_thibeta_okurai',\n",
    " 'Sphingidae_Acherontia_lachesis',\n",
    " 'Sphingidae_Acosmerycoides_harterti',\n",
    " 'Sphingidae_Acosmeryx_castanea',\n",
    " 'Sphingidae_Acosmeryx_naga_naga',\n",
    " 'Sphingidae_Agrius_convolvuli',\n",
    " 'Sphingidae_Callambulyx_tatarinovii_formosana',\n",
    " 'Sphingidae_Cechetra_lineosa',\n",
    " 'Sphingidae_Cechetra_minor',\n",
    " 'Sphingidae_Clanis_bilineata_formosana',\n",
    " 'Sphingidae_Cypoides chinensis',\n",
    " 'Sphingidae_Dolbina_inexacta',\n",
    " 'Sphingidae_Langia_zenzeroides_formosana',\n",
    " 'Sphingidae_Marumba_cristata_bukaiana',\n",
    " 'Sphingidae_Marumba_sperchius_sperchius',\n",
    " 'Sphingidae_Notonagemia_analis_gressitti',\n",
    " 'Sphingidae_Parum_colligata',\n",
    " 'Sphingidae_Pergesa_acteus',\n",
    " 'Sphingidae_Psilogramma_increta',\n",
    " 'Sphingidae_Rhagastis_binoculata',\n",
    " 'Sphingidae_Rhagastis_castor_formosana',\n",
    " 'Sphingidae_Theretra_nessus',\n",
    " 'Thyrididae_Pyrinioides_sinuosus',\n",
    " 'Uraniidae_Acropteris_leptaliata',\n",
    " 'Uraniidae_Dysaethria_cretacea',\n",
    " 'Uraniidae_Dysaethria_flavistriga',\n",
    " 'Zygaenidae_Artona_hainana',\n",
    " 'Zygaenidae_Clelea_formosana',\n",
    " 'Zygaenidae_Erasmia_pulchella_hobsoni',\n",
    " 'Zygaenidae_Eterusia_aedea_formosana',\n",
    " 'Zygaenidae_Gynautocera_rubriscutellata',\n",
    " 'Zygaenidae_Histia_flabellicornis_ultima']"
   ]
  },
  {
   "cell_type": "code",
   "execution_count": 13,
   "metadata": {},
   "outputs": [
    {
     "data": {
      "text/plain": [
       "(201, 'Hyblaeidae_Hyblaea_firmamentum')"
      ]
     },
     "execution_count": 13,
     "metadata": {},
     "output_type": "execute_result"
    }
   ],
   "source": [
    "pred_class = np.argmax(pred)\n",
    "pred_class, img_labels[pred_class]"
   ]
  },
  {
   "cell_type": "code",
   "execution_count": 14,
   "metadata": {},
   "outputs": [
    {
     "data": {
      "text/plain": [
       "array([201, 208,  82, 206, 130])"
      ]
     },
     "execution_count": 14,
     "metadata": {},
     "output_type": "execute_result"
    }
   ],
   "source": [
    "class_sort = (-pred).argsort()\n",
    "top5 = class_sort[0][:5]\n",
    "top5"
   ]
  },
  {
   "cell_type": "code",
   "execution_count": 15,
   "metadata": {},
   "outputs": [
    {
     "name": "stdout",
     "output_type": "stream",
     "text": [
      "test/twmoth020247.jpg\n",
      "1st  科名: Hyblaeidae 屬名: Hyblaea 學名: Hyblaea firmamentum 98.71%\n",
      "2nd  科名: Limacodidae 屬名: Miresa 學名: Miresa fulgida 1.13%\n",
      "3rd  科名: Erebidae 屬名: Eudocima 學名: Eudocima homaena 0.08%\n",
      "4th  科名: Lecithoceridae 屬名: Tisis 學名: Tisis mesozosta 0.02%\n",
      "5th  科名: Erebidae 屬名: Sympis 學名: Sympis rufibasis 0.01%\n"
     ]
    }
   ],
   "source": [
    "print(test_path)\n",
    "ord_nums =['1st', '2nd', '3rd', '4th', '5th']\n",
    "file_str = test_path.split('/')[1].split('.')[0]\n",
    "result = file_str+'.txt'\n",
    "f = open(result, 'w')\n",
    "for i in range(len(top5)):\n",
    "    ename = img_labels[top5[i]].split('_')\n",
    "    sname = str()\n",
    "    for x in ename[1:]:\n",
    "        sname = sname +' '+x\n",
    "    #name = '科名:'+ename[0]+' '+'屬名:'+' '+ename[1]+' '+'學名:'+sname\n",
    "    name = ' 科名: {} 屬名: {} 學名:{}'.format(ename[0], ename[1], sname)\n",
    "    accu = str(round(pred[0][top5[i]]*100, 2))+'%'\n",
    "    name_str = '{}{}{}\\n'.format(ord_nums[i], name, accu)\n",
    "    f.write(name_str)\n",
    "    print (ord_nums[i], name, accu)\n",
    "    #print (name_str)\n",
    "    #print(ord_nums[i],img_labels[top5[i]], str(round(pred[0][top5[i]]*100, 2))+'%')"
   ]
  },
  {
   "cell_type": "code",
   "execution_count": 16,
   "metadata": {},
   "outputs": [
    {
     "data": {
      "text/plain": [
       "0.98707867"
      ]
     },
     "execution_count": 16,
     "metadata": {},
     "output_type": "execute_result"
    }
   ],
   "source": [
    "pred[0][201]"
   ]
  },
  {
   "cell_type": "code",
   "execution_count": 33,
   "metadata": {},
   "outputs": [],
   "source": [
    "#name = '科名:{} 屬名:{} 學名: {}'.format(ename[0], ename[1], sname)\n",
    "#u1, u2 = test_path.split('.')\n",
    "#result = u1+'.txt'\n",
    "#f = open(result, 'w')\n",
    "#name_str = '{}{}{}\\n'.format(ord_nums[i], name, accu)\n",
    "#f.write( name_str)"
   ]
  },
  {
   "cell_type": "code",
   "execution_count": null,
   "metadata": {},
   "outputs": [],
   "source": []
  }
 ],
 "metadata": {
  "kernelspec": {
   "display_name": "Python 3",
   "language": "python",
   "name": "python3"
  },
  "language_info": {
   "codemirror_mode": {
    "name": "ipython",
    "version": 3
   },
   "file_extension": ".py",
   "mimetype": "text/x-python",
   "name": "python",
   "nbconvert_exporter": "python",
   "pygments_lexer": "ipython3",
   "version": "3.6.6"
  }
 },
 "nbformat": 4,
 "nbformat_minor": 2
}
